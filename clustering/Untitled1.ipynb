{
 "cells": [
  {
   "cell_type": "code",
   "execution_count": 1,
   "metadata": {},
   "outputs": [],
   "source": [
    "from PIL import Image\n",
    "from numpy import *"
   ]
  },
  {
   "cell_type": "code",
   "execution_count": 2,
   "metadata": {},
   "outputs": [],
   "source": [
    "\n",
    "def pca(X):\n",
    "    \"\"\" Principal Component Analysis\n",
    "    input: X, matrix with training data stored as flattened arrays in rows\n",
    "    return: projection matrix (with important dimensions first), variance and mean.\n",
    "    \"\"\"\n",
    "    # get dimensions\n",
    "    num_data,dim = X.shape\n",
    "    # center data\n",
    "    mean_X = X.mean(axis=0)\n",
    "    X = X - mean_X\n",
    "    if dim>num_data:\n",
    "        # PCA - compact trick used\n",
    "        M = dot(X,X.T) # covariance matrix\n",
    "        e,EV = linalg.eigh(M) # eigenvalues and eigenvectors\n",
    "        tmp = dot(X.T,EV).T # this is the compact trick\n",
    "        V = tmp[::-1] # reverse since last eigenvectors are the ones we want\n",
    "        S = sqrt(e)[::-1] # reverse since eigenvalues are in increasing order\n",
    "        for i in range(V.shape[1]):\n",
    "            V[:,i] /= S\n",
    "    else:\n",
    "        # PCA - SVD used\n",
    "        U,S,V = linalg.svd(X)\n",
    "        V = V[:num_data] # only makes sense to return the first num_data\n",
    "    # return the projection matrix, the variance and the mean\n",
    "    return V,S,mean_X"
   ]
  },
  {
   "cell_type": "code",
   "execution_count": 3,
   "metadata": {},
   "outputs": [
    {
     "ename": "IndentationError",
     "evalue": "unexpected indent (<ipython-input-3-aaabdcae411a>, line 10)",
     "output_type": "error",
     "traceback": [
      "\u001b[0;36m  File \u001b[0;32m\"<ipython-input-3-aaabdcae411a>\"\u001b[0;36m, line \u001b[0;32m10\u001b[0m\n\u001b[0;31m    immatrix = array([array(Image.open(im)).flatten()\u001b[0m\n\u001b[0m    ^\u001b[0m\n\u001b[0;31mIndentationError\u001b[0m\u001b[0;31m:\u001b[0m unexpected indent\n"
     ]
    }
   ],
   "source": [
    "from PIL import Image\n",
    "from numpy import *\n",
    "from pylab import *\n",
    "\n",
    "\n",
    "im = array(Image.open(imlist[0])) # open one image to get size\n",
    "m,n = im.shape[0:2] # get the size of the images\n",
    "imnbr = len(imlist) # get the number of images\n",
    "# create matrix to store all flattened images\n",
    "immatrix = array([array(Image.open(im)).flatten()\n",
    "    for im in imlist],’f’)"
   ]
  }
 ],
 "metadata": {
  "kernelspec": {
   "display_name": "expvenv",
   "language": "python",
   "name": "envname"
  },
  "language_info": {
   "codemirror_mode": {
    "name": "ipython",
    "version": 3
   },
   "file_extension": ".py",
   "mimetype": "text/x-python",
   "name": "python",
   "nbconvert_exporter": "python",
   "pygments_lexer": "ipython3",
   "version": "3.6.7"
  }
 },
 "nbformat": 4,
 "nbformat_minor": 2
}
